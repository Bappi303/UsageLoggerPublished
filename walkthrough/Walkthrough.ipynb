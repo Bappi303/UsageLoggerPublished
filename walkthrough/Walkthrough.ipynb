{
 "cells": [
  {
   "cell_type": "markdown",
   "metadata": {},
   "source": [
    "<h1>Usage Logger walkthrough</h1>\n",
    "\n",
    "<p>Contents:</p>\n",
    "<ol>\n",
    "    <li>Customisation</li>\n",
    "    <li>App</li>\n",
    "    <li>Decryption</li>\n",
    "    <li>Analysis</li>\n",
    "</ol>"
   ]
  }
 ],
 "metadata": {
  "kernelspec": {
   "display_name": "Python 3",
   "language": "python",
   "name": "python3"
  },
  "language_info": {
   "codemirror_mode": {
    "name": "ipython",
    "version": 3
   },
   "file_extension": ".py",
   "mimetype": "text/x-python",
   "name": "python",
   "nbconvert_exporter": "python",
   "pygments_lexer": "ipython3",
   "version": "3.8.3"
  }
 },
 "nbformat": 4,
 "nbformat_minor": 4
}
